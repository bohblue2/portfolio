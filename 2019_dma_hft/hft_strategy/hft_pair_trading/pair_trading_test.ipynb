{
 "cells": [
  {
   "cell_type": "code",
   "execution_count": 6,
   "metadata": {},
   "outputs": [
    {
     "data": {
      "text/plain": [
       "['c:\\\\gpu_env\\\\scripts\\\\python36.zip',\n",
       " 'c:\\\\gpu_env\\\\DLLs',\n",
       " 'c:\\\\gpu_env\\\\lib',\n",
       " 'c:\\\\gpu_env\\\\scripts',\n",
       " 'C:\\\\Program Files\\\\Python36\\\\Lib',\n",
       " 'C:\\\\Program Files\\\\Python36\\\\DLLs',\n",
       " 'c:\\\\gpu_env',\n",
       " '',\n",
       " 'c:\\\\gpu_env\\\\lib\\\\site-packages',\n",
       " 'c:\\\\gpu_env\\\\lib\\\\site-packages\\\\IPython\\\\extensions',\n",
       " 'C:\\\\Users\\\\hsl\\\\.ipython']"
      ]
     },
     "execution_count": 6,
     "metadata": {},
     "output_type": "execute_result"
    }
   ],
   "source": [
    "import sys\n",
    "sys.executable\n",
    "sys.path"
   ]
  },
  {
   "cell_type": "code",
   "execution_count": 1,
   "metadata": {},
   "outputs": [
    {
     "data": {
      "text/html": [
       "<style>.container { width:100% !important; }</style>"
      ],
      "text/plain": [
       "<IPython.core.display.HTML object>"
      ]
     },
     "metadata": {},
     "output_type": "display_data"
    }
   ],
   "source": [
    "from IPython.core.display import display, HTML\n",
    "display(HTML(\"<style>.container { width:100% !important; }</style>\"))"
   ]
  },
  {
   "cell_type": "code",
   "execution_count": 2,
   "metadata": {},
   "outputs": [],
   "source": [
    "import pandas as pd\n",
    "import numpy as np\n",
    "import statsmodels.api as sm\n",
    "import statsmodels.tsa.stattools as ts"
   ]
  },
  {
   "cell_type": "markdown",
   "metadata": {},
   "source": [
    "# load data"
   ]
  },
  {
   "cell_type": "code",
   "execution_count": 2,
   "metadata": {},
   "outputs": [],
   "source": [
    "    tr_005930 = pd.read_hdf(r'\\data\\tickdata\\20190426_kor_stock.h5', \"005930_tr\")\n",
    "    tr_000660 = pd.read_hdf(r'\\data\\tickdata\\20190426_kor_stock.h5', \"000660_tr\")\n",
    "    tr_012330 = pd.read_hdf(r'\\data\\tickdata\\20190426_kor_stock.h5', \"012330_tr\")\n",
    "    tr_005380 = pd.read_hdf(r'\\data\\tickdata\\20190426_kor_stock.h5', \"005380_tr\")\n",
    "\n",
    "    cur_005930 = tr_005930.reset_index().drop(columns =['time_api']).set_index(['datetime_sys'])\n",
    "    cur_000660 = tr_000660.reset_index().drop(columns =['time_api']).set_index(['datetime_sys'])\n",
    "    cur_012330 = tr_012330.reset_index().drop(columns =['time_api']).set_index(['datetime_sys'])\n",
    "    cur_005380 = tr_005380.reset_index().drop(columns =['time_api']).set_index(['datetime_sys'])\n",
    "\n",
    "    cur_1m_005930 = cur_005930['price'].resample('1T').ohlc().dropna()\n",
    "    cur_1m_000660 = cur_000660['price'].resample('1T').ohlc().dropna()\n",
    "    cur_1m_012330 = cur_012330['price'].resample('1T').ohlc().dropna()\n",
    "    cur_1m_005380 = cur_005380['price'].resample('1T').ohlc().dropna()\n",
    "\n",
    "    close_005930 = cur_1m_005930['close'].to_frame()\n",
    "    close_000660 = cur_1m_000660['close'].to_frame()\n",
    "    close_012330 = cur_1m_012330['close'].to_frame()\n",
    "    close_005380 = cur_1m_005380['close'].to_frame()\n",
    "\n",
    "    close_005930.columns =['A005930']\n",
    "    close_000660.columns =['A000660']\n",
    "    close_012330.columns =['A012330']\n",
    "    close_005380.columns =['A005380']\n",
    "\n",
    "    preset_005930 = close_005930.iloc[:-100, :]\n",
    "    preset_000660 = close_000660.iloc[:-100, :]\n",
    "    preset_005380 = close_005380.iloc[:-100, :]\n",
    "    preset_012330 = close_012330.iloc[:-100, :]\n",
    "\n",
    "    test_005930 = close_005930.iloc[-100:, :]\n",
    "    test_000660 = close_000660.iloc[-100:, :]\n",
    "    test_005380 = close_005380.iloc[-100:, :]\n",
    "    test_012330 = close_012330.iloc[-100:, :]\n",
    "\n",
    "    test_data = pd.concat([test_005930, test_000660, test_005380, test_012330], axis=1)\n",
    "\n",
    "    symbols =[close_005930,\n",
    "                close_000660,\n",
    "                close_005380,\n",
    "                close_012330]\n",
    "\n",
    "    combined_symbols = pd.concat(symbols, join = 'outer', axis=1)\n",
    "    combined_symbols = combined_symbols.fillna(method = 'ffill')\n",
    "    combined_symbols = combined_symbols.dropna()\n",
    "    # p = pairs(close_005930, close_000660)\n",
    "    # p.cointegration_test()\n",
    "    # p.adf\n",
    "    #\n",
    "    # p.num_bar\n",
    "\n",
    "\n",
    "    training_period = combined_symbols.index"
   ]
  },
  {
   "cell_type": "code",
   "execution_count": 7,
   "metadata": {},
   "outputs": [
    {
     "data": {
      "text/plain": [
       "DatetimeIndex(['2019-04-26 09:00:00', '2019-04-26 09:01:00',\n",
       "               '2019-04-26 09:02:00', '2019-04-26 09:03:00',\n",
       "               '2019-04-26 09:04:00', '2019-04-26 09:05:00',\n",
       "               '2019-04-26 09:06:00', '2019-04-26 09:07:00',\n",
       "               '2019-04-26 09:08:00', '2019-04-26 09:09:00',\n",
       "               ...\n",
       "               '2019-04-26 15:17:00', '2019-04-26 15:18:00',\n",
       "               '2019-04-26 15:19:00', '2019-04-26 15:30:00',\n",
       "               '2019-04-26 15:40:00', '2019-04-26 15:41:00',\n",
       "               '2019-04-26 15:42:00', '2019-04-26 15:43:00',\n",
       "               '2019-04-26 15:44:00', '2019-04-26 15:45:00'],\n",
       "              dtype='datetime64[ns]', name='datetime_sys', length=387, freq=None)"
      ]
     },
     "execution_count": 7,
     "metadata": {},
     "output_type": "execute_result"
    }
   ],
   "source": [
    "training_period"
   ]
  },
  {
   "cell_type": "code",
   "execution_count": 8,
   "metadata": {},
   "outputs": [],
   "source": []
  },
  {
   "cell_type": "code",
   "execution_count": null,
   "metadata": {},
   "outputs": [],
   "source": [
    "class pairs(object):\n",
    "    def __init__(self, a, b):\n",
    "        self.a = a\n",
    "        self.b = b\n",
    "        self.name = a.name + ':' + b.name\n",
    "        \n",
    "        self.df = pd.concat([a, b], axis=1).dropna()\n",
    "        # The number of bars in the rolling window would be determined by the resolution, so we get this\n",
    "        #   information from the shape of the DataFrame here.\n",
    "        # num_bar: entire time series\n",
    "        self.num_bar = self.df.shape[0]\n",
    "\n",
    "        # select iloc[0, 1] to since its 2x2 corr matrix\n",
    "        self.cor = self.df.corr().iloc[0, 1]\n",
    "        # Set the initial signals to be 0\n",
    "        self.error = 0\n",
    "        self.last_error = 0\n",
    "        self.pos_a = 0\n",
    "        self.pos_b = 0\n",
    "\n",
    "\n",
    "    def cor_update(self):\n",
    "        self.cor = self.df.corr().iloc[0, 1]\n",
    "\n",
    "    def cointegration_test(self):\n",
    "        # self.model = sm.OLS(formula = '%s ~ %s'%(str(self.a),str(self.b)), data = self.df).fit()\n",
    "\n",
    "        constant_added = sm.add_constant(self.df.iloc[:, 1])\n",
    "        self.model = sm.OLS(self.df.iloc[:, 0], constant_added).fit()\n",
    "        # This line conduct ADF test on the residual. ts.adfuller() returns a tuple and the first element in\n",
    "        #   the tuple is the test value.\n",
    "        self.adf = ts.adfuller(self.model.resid, autolag='BIC')[0]\n",
    "        self.mean_resid = np.mean(self.model.resid)\n",
    "        self.sd = np.std(self.model.resid)\n",
    "        print('pairs head: ', self.df.head())\n",
    "        print('pairs tail: ', self.df.tail())\n",
    "        print('adf: ', self.adf)\n",
    "        print('resid mean: ', self.mean_resid)\n",
    "        print('resid sd: ', self.sd)\n",
    "\n",
    "    def df_update(self, a_new, b_new):\n",
    "        # new_df = pd.DataFrame({str(self.a.columns): self.a_price, str(self.b): self.b}, index=[self.a.index]).dropna()\n",
    "        new_df = pd.concat([a_new, b_new], axis=1)\n",
    "        self.df = pd.concat([self.df, new_df], axis=0)\n",
    "        #rolling windows to compute adf\n",
    "        self.df = self.df.tail(self.num_bar)"
   ]
  },
  {
   "cell_type": "code",
   "execution_count": null,
   "metadata": {},
   "outputs": [],
   "source": [
    "def generate_pairs(combined_price):\n",
    "    # self.pair_num = num_pair\n",
    "    pair_list = []\n",
    "\n",
    "    for i in range(len(combined_price.columns)):\n",
    "        for j in range(i + 1, len(combined_price.columns)):\n",
    "            pair_list.append(pairs(combined_price.iloc[:, i], combined_price.iloc[:, j]))\n",
    "\n",
    "    [print('inital pair: ', x.name, x.cor) for x in pair_list]\n",
    "\n",
    "    pair_list = [x for x in pair_list if x.cor > pair_threshold]\n",
    "    pair_list.sort(key=lambda x: x.cor, reverse=True)\n",
    "    return pair_list"
   ]
  },
  {
   "cell_type": "code",
   "execution_count": null,
   "metadata": {},
   "outputs": [],
   "source": [
    "def update_pairs(data, selected_final):\n",
    "    num_select = len(selected_final)\n",
    "    for pair in selected_final:\n",
    "        # when selected pairs are in given data\n",
    "        if pair.a.name in data.columns and pair.b.name in data.columns:\n",
    "            pair.df_update(data.loc[:, pair.a.name], data.loc[:, pair.b.name])\n",
    "        else:\n",
    "            selected_final.remove(pair)\n",
    "\n",
    "    for pair in selected_final:\n",
    "        pair.last_error = pair.error"
   ]
  },
  {
   "cell_type": "code",
   "execution_count": null,
   "metadata": {},
   "outputs": [],
   "source": [
    "def select_final_pairs(combined_price):\n",
    "\n",
    "    if len(combined_price.index) == num_bar:  # self.count == 0 and\n",
    "        # if self.generate_count == 0:\n",
    "        # for symbol in self.symbols:\n",
    "            # symbol.df = pd.DataFrame(symbol, index = symbol.index, columns = ['%s'%str(symbol)])\n",
    "        pair_list = generate_pairs(combined_price)\n",
    "            # self.generate_count += 1\n",
    "            # self.Log('pair list length:'+str(len(self.pair_list)))\n",
    "\n",
    "        # TODO: why do we need this? - initially inside generate pairs we already have corr\n",
    "        # for pair in self.pair_list:\n",
    "        #     pair.cor_update()\n",
    "\n",
    "    # Update the DataFrame and correlation selection\n",
    "    # TODO: why do we need this? - a_price can't be 0\n",
    "    # if len(self.pair_list[0].a_price) != 0:\n",
    "    #     for pair in self.pair_list:\n",
    "    #         pair.df_update()\n",
    "    #         pair.cor_update()\n",
    "\n",
    "    # TODO: why do we double select pairs?? generate pairs have corr hurdle inside it\n",
    "    # self.selected_corr = [x for x in self.pair_list if x.cor > 0.9]\n",
    "    # Cointegration test\n",
    "    for pair in pair_list:\n",
    "        pair.cointegration_test()\n",
    "\n",
    "    print('pair len: ', len(pair_list))\n",
    "    print('df: ', pair_list[0].df.head(), pair_list[0].df.tail())\n",
    "    print('adf: ', pair_list[0].adf)\n",
    "    # print('bic: ', self.pair_list[0])\n",
    "    # TODO: x.adf should be compared with BIC\n",
    "    selected_adf = [x for x in pair_list if x.adf < -1]\n",
    "    selected_adf.sort(key=lambda x: x.adf)\n",
    "    # If no pair passed the two-stage test, return.\n",
    "\n",
    "\n",
    "    if len(selected_adf) == 0:\n",
    "        # self.Log('no selected pair')\n",
    "        # TODO: why do we count when no pairs passed adf threshold?\n",
    "        # self.count += 1\n",
    "        return print('no selected pair')\n",
    "\n",
    "    # clean the pair to avoid overlapping stocks.\n",
    "    selected_final = pair_clean(selected_adf)\n",
    "    # assign a property to the selected pair, this is a signal that would be used for trading.\n",
    "    for pair in selected_final:\n",
    "        pair.state = 0\n",
    "        # self.Log(str(pair.adf) + pair.name)\n",
    "    # limit the number of selected pairs.\n",
    "    if len(selected_final) > selected_num:\n",
    "        selected_final = selected_final[:selected_num]\n",
    "\n",
    "    # self.count += 1\n",
    "    # self.data_count = 0\n",
    "    return\n"
   ]
  },
  {
   "cell_type": "code",
   "execution_count": null,
   "metadata": {},
   "outputs": [],
   "source": [
    "    def open_pairs(selected_final):\n",
    "        for pair in selected_final:\n",
    "\n",
    "            # here error is updated first from initial 0\n",
    "            # error is the residual from cointegration\n",
    "            # what does error mean here, greater better? smaller better??? smaller better but small spread\n",
    "            pair.error = pair.a.values[-1]- (pair.model.params[0] + pair.model.params[1] * pair.b.values[-1])\n",
    "\n",
    "\n",
    "            # compare previous signal and current signal\n",
    "            # signal meaning: in previous, signal under mean +sd and now its above it\n",
    "            # -> spread recover??\n",
    "            if pair.error > pair.mean_resid - pair.sd and pair.last_error < pair.mean_resid - pair.sd:\n",
    "                # self.Log('long %s and short %s'%(str(i.a),str(i.b)))\n",
    "                # why record model??\n",
    "                pair.record_model = pair.model\n",
    "                pair.record_mean_resid = pair.mean_resid\n",
    "                pair.record_sd = pair.sd\n",
    "                trading_pairs.append(pair)\n",
    "                pair.pos_a = 1.0\n",
    "                pair.pos_b = -1.0\n",
    "                # self.positions['a'] = 5.0 / len(self.selected_final)  # self.SetHoldings(i.a, 5.0/(len(self.selected_final)))\n",
    "                # self.positions['b'] = -5.0 / len(self.selected_final)  # self.SetHoldings(i.b, -5.0/(len(self.selected_final)))\n",
    "                pair.state = 1\n",
    "\n",
    "            # signal meaning: previously signal was above the mean +sd and now its below it\n",
    "            # -> spread brought back\n",
    "            elif pair.error < pair.mean_resid + pair.sd and pair.last_error > pair.mean_resid + pair.sd:\n",
    "                # self.Log('long %s and short %s'%(str(i.b),str(i.a)))\n",
    "                pair.record_model = pair.model\n",
    "                pair.record_mean_resid = pair.mean_resid\n",
    "                pair.record_sd = pair.sd\n",
    "                trading_pairs.append(pair)\n",
    "\n",
    "                pair.pos_a = -1.0\n",
    "                pair.pos_b = 1.0\n",
    "                # self.positions['b'] = 5.0 / len(self.selected_final)  # self.SetHoldings(i.b, 5.0/(len(self.selected_pair)))\n",
    "                # self.positions['a'] = -5.0 / len(self.selected_final)  # self.SetHoldings(i.a, -5.0/(len(self.selected_pair)))\n",
    "                pair.state = -1\n",
    "\n",
    "            else:\n",
    "                pair.state = 0"
   ]
  },
  {
   "cell_type": "code",
   "execution_count": null,
   "metadata": {},
   "outputs": [],
   "source": [
    "# closing pairs\n",
    "def close_pairs(data, trading_pairs):\n",
    "    for i in trading_pairs:\n",
    "        price_a = float(data[i.a].Close)\n",
    "        price_b = float(data[i.b].Close)\n",
    "        i.error = price_a - (i.record_model.params[0] + i.record_model.params[1] * price_b)\n",
    "\n",
    "        # why multiply close_size or stop loss to sd??\n",
    "        if i.error < i.record_mean_error + close_size * i.record_sd and i.last_error > i.record_mean_error + close_size * i.record_sd:\n",
    "            return\n",
    "        elif i.error > i.record_mean_error - close_size * i.record_sd and i.last_error < i.record_mean_error +  stop_loss * i.record_sd:\n",
    "            return\n",
    "\n",
    "\n",
    "        trading_pairs.remove(i)"
   ]
  },
  {
   "cell_type": "code",
   "execution_count": null,
   "metadata": {},
   "outputs": [],
   "source": [
    "    pt.select_final_pairs()\n",
    "\n",
    "    pt.update_pairs(test_data)\n",
    "    pt.open_pairs()\n",
    "\n",
    "    \n",
    "combined_price = combined_symbols\n",
    "num_bar = len(training_period) # num_bar: entire time series\n",
    "        # self.positions = {}\n",
    "selected_num = 2\n",
    "pair_threshold = 0.4\n",
    "trading_pairs = []"
   ]
  }
 ],
 "metadata": {
  "kernelspec": {
   "display_name": "Python 3",
   "language": "python",
   "name": "python3"
  },
  "language_info": {
   "codemirror_mode": {
    "name": "ipython",
    "version": 3
   },
   "file_extension": ".py",
   "mimetype": "text/x-python",
   "name": "python",
   "nbconvert_exporter": "python",
   "pygments_lexer": "ipython3",
   "version": "3.6.8"
  }
 },
 "nbformat": 4,
 "nbformat_minor": 2
}
